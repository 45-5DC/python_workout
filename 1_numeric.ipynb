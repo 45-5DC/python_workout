{
 "cells": [
  {
   "attachments": {},
   "cell_type": "markdown",
   "metadata": {},
   "source": [
    "# 1장. numeric 자료형"
   ]
  },
  {
   "attachments": {},
   "cell_type": "markdown",
   "metadata": {},
   "source": [
    "## Exercise 01. 숫자 맞히기 게임"
   ]
  },
  {
   "cell_type": "code",
   "execution_count": 1,
   "metadata": {},
   "outputs": [
    {
     "name": "stdout",
     "output_type": "stream",
     "text": [
      "Too high\n",
      "Too low\n",
      "Too low\n",
      "Too low\n",
      "Too low\n",
      "Too high\n",
      "Too high\n",
      "Too high\n",
      "Just right\n"
     ]
    }
   ],
   "source": [
    "import random\n",
    "\n",
    "def guessing_game():\n",
    "    target = random.randint(0, 100)\n",
    "    while True:\n",
    "        answer = int(input())\n",
    "        if answer > target:\n",
    "            print('Too high')\n",
    "        elif answer < target:\n",
    "            print('Too low')\n",
    "        else:\n",
    "            print('Just right')\n",
    "            break\n",
    "        \n",
    "guessing_game()"
   ]
  },
  {
   "attachments": {},
   "cell_type": "markdown",
   "metadata": {},
   "source": [
    "### 조금 더 나아가기"
   ]
  },
  {
   "cell_type": "code",
   "execution_count": 9,
   "metadata": {},
   "outputs": [
    {
     "name": "stdout",
     "output_type": "stream",
     "text": [
      "Too low\n",
      "Too high\n",
      "Too low\n",
      "Sorry, You failed. The answer is 68.\n"
     ]
    }
   ],
   "source": [
    "# 숫자 예측 기회를 3번으로 제한\n",
    "\n",
    "import random\n",
    "# import time\n",
    "\n",
    "def guessing_game():\n",
    "    target = random.randint(0, 100)\n",
    "    for _ in range(3):\n",
    "        # time.sleep(1)\n",
    "        answer = int(input())\n",
    "        if answer > target:\n",
    "            print('Too high')\n",
    "        elif answer < target:\n",
    "            print('Too low')\n",
    "        else:\n",
    "            print('Just right')\n",
    "            break\n",
    "    else:\n",
    "        print(f'Sorry, You failed. The answer is {target}.')\n",
    "        \n",
    "guessing_game()"
   ]
  },
  {
   "cell_type": "code",
   "execution_count": 16,
   "metadata": {},
   "outputs": [
    {
     "name": "stdout",
     "output_type": "stream",
     "text": [
      "choose the answer in ['apple', 'banana', 'cherry', 'dragonfruit', 'eggplant']\n",
      "The answer is on the left more than cherry.\n",
      "Just right\n"
     ]
    }
   ],
   "source": [
    "# 단어 맞히기\n",
    "\n",
    "import random\n",
    "\n",
    "def guessing_game():\n",
    "    target_list = ['apple', 'banana', 'cherry', 'dragonfruit', 'eggplant']\n",
    "    target = random.choice(target_list)\n",
    "    print(f'choose the answer in {target_list}')\n",
    "    while True:\n",
    "        answer = input('input your answer: ')\n",
    "        if target_list.index(answer) > target_list.index(target):\n",
    "            print(f'The answer is on the left more than {answer}.')\n",
    "        elif target_list.index(answer) < target_list.index(target):\n",
    "            print(f'The answer is on the right more than {answer}.')\n",
    "        else:\n",
    "            print('Just right')\n",
    "            break\n",
    "        \n",
    "guessing_game()"
   ]
  },
  {
   "attachments": {},
   "cell_type": "markdown",
   "metadata": {},
   "source": [
    "## Exercise 02. 숫자 더하기"
   ]
  },
  {
   "cell_type": "code",
   "execution_count": 25,
   "metadata": {},
   "outputs": [
    {
     "name": "stdout",
     "output_type": "stream",
     "text": [
      "10\n",
      "10\n"
     ]
    }
   ],
   "source": [
    "def mysum(*numbers):\n",
    "    result = 0\n",
    "    for n in numbers:\n",
    "        result += n\n",
    "    return result\n",
    "\n",
    "print(mysum(1,2,3,4))\n",
    "print(mysum(*[1,2,3,4]))"
   ]
  },
  {
   "attachments": {},
   "cell_type": "markdown",
   "metadata": {},
   "source": [
    "### 조금 더 나아가기"
   ]
  },
  {
   "cell_type": "code",
   "execution_count": 29,
   "metadata": {},
   "outputs": [
    {
     "name": "stdout",
     "output_type": "stream",
     "text": [
      "6\n",
      "12\n"
     ]
    }
   ],
   "source": [
    "# sum() 처럼 첫 번째 매개변수로 리스트를 받고, 두 번째 매개변수로 어떤 숫자부터 더할지(지정하지 않으면 0)를 지정하게 만들기\n",
    "\n",
    "def mysum(numbers, start=0):\n",
    "    result = start\n",
    "    for n in numbers:\n",
    "        result += n\n",
    "    return result\n",
    "\n",
    "print(mysum([1,2,3]))\n",
    "print(mysum([1,2,3], 6))"
   ]
  },
  {
   "cell_type": "code",
   "execution_count": 31,
   "metadata": {},
   "outputs": [
    {
     "name": "stdout",
     "output_type": "stream",
     "text": [
      "3.0\n",
      "4.0\n"
     ]
    }
   ],
   "source": [
    "# 매개변수로 숫자 리스트를 받고, 숫자의 평균을 계산하는 함수 만들기\n",
    "\n",
    "def mymean(numbers):\n",
    "    total = 0\n",
    "    length = len(numbers)\n",
    "    for n in numbers:\n",
    "        total += n\n",
    "    return total / length\n",
    "\n",
    "print(mymean([1,2,3,4,5]))\n",
    "print(mymean([1,2,3,4,10]))"
   ]
  },
  {
   "cell_type": "code",
   "execution_count": 39,
   "metadata": {},
   "outputs": [
    {
     "name": "stdout",
     "output_type": "stream",
     "text": [
      "(5, 11, 7.2)\n"
     ]
    }
   ],
   "source": [
    "# 문자열로 구성된 리스트를 매개변수로 받고, (가장짧은단어길이, 가장긴단어길이, 단어길이의평균) 형태의 튜플을 리턴하는 함수 만들기\n",
    "\n",
    "def length_info(strings):\n",
    "    data = [len(s) for s in strings]\n",
    "    # print(data)\n",
    "    return min(data), max(data), sum(data) / len(data)\n",
    "\n",
    "print(length_info(['apple', 'banana', 'cherry', 'dragonfruit', 'eggplant']))"
   ]
  },
  {
   "cell_type": "code",
   "execution_count": 51,
   "metadata": {},
   "outputs": [
    {
     "name": "stdout",
     "output_type": "stream",
     "text": [
      "7.8\n"
     ]
    }
   ],
   "source": [
    "# 매개변수로 여러 자료형으로 구성된 리스트를 받고, 그 값을 더해서 리턴하는 함수 만들기\n",
    "# 숫자 또는 숫자로 변환해서 더할 수 있는 것만 더하고 나머지는 무시\n",
    "\n",
    "def digit_sum(array):\n",
    "    result = 0\n",
    "    for i in array:\n",
    "        try:\n",
    "            result += float(i)\n",
    "            # print(i)\n",
    "        except:\n",
    "            pass\n",
    "    return result\n",
    "\n",
    "print(digit_sum(['1', '2.3', 'ㅋㅋㅋ', 'ㄴㄴ', 1 , 3.5]))"
   ]
  },
  {
   "attachments": {},
   "cell_type": "markdown",
   "metadata": {},
   "source": [
    "## Exercise 03. 달린 시간 계산하기"
   ]
  },
  {
   "cell_type": "code",
   "execution_count": 53,
   "metadata": {},
   "outputs": [
    {
     "name": "stdout",
     "output_type": "stream",
     "text": [
      "Average of 15.0, over 3.0 runs\n"
     ]
    }
   ],
   "source": [
    "def run_timimg():\n",
    "    numbers = 0.0\n",
    "    times = 0.0\n",
    "    \n",
    "    while True:\n",
    "        t = input('Enter 10 km run time: ')\n",
    "        if not t:\n",
    "            break\n",
    "        numbers += 1\n",
    "        times += float(t)\n",
    "    \n",
    "    return f'Average of {times / numbers}, over {numbers} runs'\n",
    "\n",
    "print(run_timimg())"
   ]
  },
  {
   "attachments": {},
   "cell_type": "markdown",
   "metadata": {},
   "source": [
    "### 조금 더 나아가기"
   ]
  },
  {
   "cell_type": "code",
   "execution_count": 56,
   "metadata": {},
   "outputs": [
    {
     "name": "stdout",
     "output_type": "stream",
     "text": [
      "34.567\n"
     ]
    }
   ],
   "source": [
    "# 부동소수점 1개와 정수 2개(before, after)를 매개 변수로 받고\n",
    "# before 만큼 부동소수점의 정수 부분, after만큼 소수점 아래 부분을 추출해서 출력하는 함수 작성\n",
    "\n",
    "def split_float(f, before, after):\n",
    "    s_f = str(f)\n",
    "    dot_idx = s_f.index('.')\n",
    "    return float(s_f[dot_idx - before : dot_idx + after + 1])\n",
    "\n",
    "print(split_float(1234.5678, 2, 3))"
   ]
  },
  {
   "cell_type": "code",
   "execution_count": 59,
   "metadata": {},
   "outputs": [
    {
     "name": "stdout",
     "output_type": "stream",
     "text": [
      "0.444444444444444444444443333\n"
     ]
    }
   ],
   "source": [
    "# 부동소수점 계산을 정확히 할 수 있는 Decimal 클래스 이용\n",
    "# 사용자로부터 부동소수점 형식의 문자열 2개를 입력받고,\n",
    "# 이를 Decimal 클래스의 인스턴스로 변환한 뒤 더해서 출력하는 프로그램 작성\n",
    "\n",
    "import decimal\n",
    "\n",
    "def robust_float_operation():\n",
    "    f1 = input('please input first float: ')\n",
    "    f2 = input('please input second float: ')\n",
    "    return decimal.Decimal(f1) + decimal.Decimal(f2)\n",
    "\n",
    "print(robust_float_operation())"
   ]
  },
  {
   "attachments": {},
   "cell_type": "markdown",
   "metadata": {},
   "source": [
    "## Exercise 04. 16진수 출력하기 // RE\n",
    "\n",
    "문제가 이해가 안 돼서 답을 봤는데, enumerate()랑 reversed()를 이용하고, 16진수의 특성(각 자리수가 16의 거듭제곱을 나타냄)을 이용하여 10진수로 바꾸라는 말이구나."
   ]
  },
  {
   "cell_type": "code",
   "execution_count": 79,
   "metadata": {},
   "outputs": [
    {
     "name": "stdout",
     "output_type": "stream",
     "text": [
      "80\n"
     ]
    }
   ],
   "source": [
    "def hex_output():\n",
    "    hexa = input()\n",
    "    deci = 0\n",
    "    for power, value in enumerate(reversed(hexa)):\n",
    "        deci += int(value, 16) * (16 ** power)\n",
    "    return deci\n",
    "\n",
    "print(hex_output())"
   ]
  },
  {
   "attachments": {},
   "cell_type": "markdown",
   "metadata": {},
   "source": [
    "### 조금 더 나아가기 // "
   ]
  },
  {
   "cell_type": "code",
   "execution_count": 14,
   "metadata": {},
   "outputs": [],
   "source": [
    "# int()가 아닌 ord()와 chr()을 활용하여 구현하기\n",
    "\n",
    "## 의도가 뭐지? 무엇을 하라는 것인지 잘 모르겠다\n"
   ]
  },
  {
   "cell_type": "code",
   "execution_count": 82,
   "metadata": {},
   "outputs": [
    {
     "name": "stdout",
     "output_type": "stream",
     "text": [
      "파\n",
      "파이\n",
      "파이썬\n",
      "파이썬매\n",
      "파이썬매일\n",
      "파이썬매일코\n",
      "파이썬매일코딩\n"
     ]
    }
   ],
   "source": [
    "# 이름 삼각형\n",
    "def name_triangle():\n",
    "    name = input('What is your name?: ')\n",
    "    for i, _ in enumerate(name):\n",
    "        print(name[:i+1])\n",
    "\n",
    "name_triangle()"
   ]
  }
 ],
 "metadata": {
  "kernelspec": {
   "display_name": "base",
   "language": "python",
   "name": "python3"
  },
  "language_info": {
   "codemirror_mode": {
    "name": "ipython",
    "version": 3
   },
   "file_extension": ".py",
   "mimetype": "text/x-python",
   "name": "python",
   "nbconvert_exporter": "python",
   "pygments_lexer": "ipython3",
   "version": "3.10.9"
  },
  "orig_nbformat": 4
 },
 "nbformat": 4,
 "nbformat_minor": 2
}
