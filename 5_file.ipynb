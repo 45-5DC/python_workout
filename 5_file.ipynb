{
 "cells": [
  {
   "attachments": {},
   "cell_type": "markdown",
   "metadata": {},
   "source": [
    "# 5장. 파일"
   ]
  },
  {
   "attachments": {},
   "cell_type": "markdown",
   "metadata": {},
   "source": [
    "## Exercise 18. 마지막 줄 추출하기"
   ]
  },
  {
   "cell_type": "code",
   "execution_count": 9,
   "metadata": {},
   "outputs": [
    {
     "name": "stdout",
     "output_type": "stream",
     "text": [
      "_launchservicesd:*:239:239::0:0:_launchservicesd:/var/empty:/usr/bin/false\n",
      "\n"
     ]
    }
   ],
   "source": [
    "def get_final_line(filename):\n",
    "    with open(filename) as f:\n",
    "        last = ''\n",
    "        for line in f: ## 불러온 파일 객체에 반복문 돌리면 한 줄 씩 뽑는구나.\n",
    "            last = line\n",
    "    return last\n",
    "\n",
    "print(get_final_line('passwd.txt'))"
   ]
  },
  {
   "attachments": {},
   "cell_type": "markdown",
   "metadata": {},
   "source": [
    "## Exercise 19. /etc/passwd를 딕셔너리로 바꾸기"
   ]
  },
  {
   "cell_type": "code",
   "execution_count": 11,
   "metadata": {},
   "outputs": [
    {
     "name": "stdout",
     "output_type": "stream",
     "text": [
      "{'nobody': '-2', 'root': '0', 'daemon': '1', '_uucp': '4', '_taskgated': '13', '_networkd': '24', '_installassistant': '25', '_lp': '26', '_postfix': '27', '_scsd': '31', '_ces': '32', '_mcxalr': '54', '_appleevents': '55', '_geod': '56', '_serialnumberd': '58', '_devdocs': '59', '_sandbox': '60', '_mdnsresponder': '65', '_ard': '67', '_www': '70', '_eppc': '71', '_cvs': '72', '_svn': '73', '_mysql': '74', '_sshd': '75', '_qtss': '76', '_cyrus': '77', '_mailman': '78', '_appserver': '79', '_clamav': '82', '_amavisd': '83', '_jabber': '84', '_appowner': '87', '_windowserver': '88', '_spotlight': '89', '_tokend': '91', '_securityagent': '92', '_calendar': '93', '_teamsserver': '94', '_update_sharing': '95', '_installer': '96', '_atsserver': '97', '_ftp': '98', '_unknown': '99', '_softwareupdate': '200', '_coreaudiod': '202', '_screensaver': '203', '_locationd': '205', '_trustevaluationagent': '208', '_timezone': '210', '_lda': '211', '_cvmsroot': '212', '_usbmuxd': '213', '_dovecot': '214', '_dpaudio': '215', '_postgres': '216', '_krbtgt': '217', '_kadmin_admin': '218', '_kadmin_changepw': '219', '_devicemgr': '220', '_webauthserver': '221', '_netbios': '222', '_warmd': '224', '_dovenull': '227', '_netstatistics': '228', '_avbdeviced': '229', '_krb_krbtgt': '230', '_krb_kadmin': '231', '_krb_changepw': '232', '_krb_kerberos': '233', '_krb_anonymous': '234', '_assetcache': '235', '_coremediaiod': '236', '_xcsbuildagent': '237', '_xcscredserver': '238', '_launchservicesd': '239'}\n"
     ]
    }
   ],
   "source": [
    "def passwd_to_dict():\n",
    "    target_dict = {}\n",
    "    with open('passwd.txt') as f:\n",
    "        for line in f:\n",
    "            if line.strip() and not line.strip().startswith('#'): ## if not line.startswith(('#', '\\n')) 이런 식으로 할 수도 있음. 튜플로 여러 개 넣을 수 있구나\n",
    "                split_line = line.split(':')\n",
    "                target_dict[split_line[0]] = split_line[2] ## 답지에선 값에 int()를 씌워줬다.\n",
    "    return target_dict\n",
    "\n",
    "print(passwd_to_dict())"
   ]
  },
  {
   "attachments": {},
   "cell_type": "markdown",
   "metadata": {},
   "source": [
    "## Exercise 20. 글자 수 세기"
   ]
  },
  {
   "cell_type": "code",
   "execution_count": 17,
   "metadata": {},
   "outputs": [
    {
     "name": "stdout",
     "output_type": "stream",
     "text": [
      "글자 수(공백 포함): 164\n",
      "단어 수(띄어쓰기로 구분된 요소 수): 28\n",
      "줄 수: 11\n",
      "유일한 단어 수(대소문자 구분 O): 20\n"
     ]
    },
    {
     "data": {
      "text/plain": [
       "(164, 28, 11, 20)"
      ]
     },
     "execution_count": 17,
     "metadata": {},
     "output_type": "execute_result"
    }
   ],
   "source": [
    "def wc(filename):\n",
    "    with open(filename) as f:\n",
    "        data = f.read().strip() # 마지막 줄이 그냥 공백이어서 strip()을 해줘야 해답과 동일한 줄 수가 나온다\n",
    "        print(f'글자 수(공백 포함): {len(data)}')\n",
    "        print(f'단어 수(띄어쓰기로 구분된 요소 수): {len(data.split())}')\n",
    "        line_list = data.split('\\n')\n",
    "        print(f\"줄 수: {len(line_list)}\")\n",
    "        print(f'유일한 단어 수(대소문자 구분 O): {len(set(data.split()))}')\n",
    "    return len(data), len(data.split()), len(data.split(\"\\n\")), len(set(data.split()))\n",
    "\n",
    "wc('wcfile.txt')"
   ]
  },
  {
   "cell_type": "code",
   "execution_count": 18,
   "metadata": {},
   "outputs": [
    {
     "name": "stdout",
     "output_type": "stream",
     "text": [
      "characters: 165\n",
      "words: 28\n",
      "lines: 11\n",
      "unique words: 20\n"
     ]
    }
   ],
   "source": [
    "# 해설 코드\n",
    "# .read() 안 쓰고 반복문으로 해결하기\n",
    "\n",
    "def wordcount(filename):\n",
    "    counts = {'characters': 0,\n",
    "              'words': 0,\n",
    "              'lines': 0}\n",
    "    unique_words = set()\n",
    "    \n",
    "    for one_line in open(filename):\n",
    "        counts['lines'] += 1\n",
    "        counts['characters'] += len(one_line)\n",
    "        counts['words'] += len(one_line.split())\n",
    "        \n",
    "        unique_words.update(one_line.split())\n",
    "        \n",
    "    counts['unique words'] = len(unique_words)\n",
    "    for key, value in counts.items():\n",
    "        print(f'{key}: {value}')\n",
    "\n",
    "wordcount('wcfile.txt')"
   ]
  },
  {
   "attachments": {},
   "cell_type": "markdown",
   "metadata": {},
   "source": [
    "## Exercise 21. 파일에서 가장 긴 단어 찾기 // RE\n",
    "* os 모듈\n",
    "* glob 모듈\n",
    "* pathlib 모듈"
   ]
  },
  {
   "cell_type": "code",
   "execution_count": 65,
   "metadata": {},
   "outputs": [
    {
     "data": {
      "text/plain": [
       "{'1342-0.txt': 'http://www.gutenberg.org/1/3/4/1342/',\n",
       " '2701-0.txt': 'http://www.gutenberg.org/2/7/0/2701/',\n",
       " '43-0.txt': 'http://www.gutenberg.org/4/43/',\n",
       " '46-0.txt': 'http://www.gutenberg.net/4/46/',\n",
       " '61105-0.txt': 'http://www.gutenberg.org/6/1/1/0/61105/',\n",
       " '84-0.txt': 'http://www.gutenberg.org/8/84/',\n",
       " 'pg25525.txt': 'http://www.gutenberg.org/2/5/5/2/25525/',\n",
       " 'pg28860.txt': 'http://www.gutenberg.org/2/8/8/6/28860/',\n",
       " 'pg345.txt': 'two-pages-to-the-week-with-Sunday-squeezed-in-a-corner',\n",
       " 'pg514.txt': '_________________________________________________'}"
      ]
     },
     "execution_count": 65,
     "metadata": {},
     "output_type": "execute_result"
    }
   ],
   "source": [
    "import os\n",
    "\n",
    "def find_longest_word(filename):\n",
    "    with open(filename) as f:\n",
    "        return sorted([(len(word), word) for word in f.read().split()])[-1][1]\n",
    "\n",
    "def find_all_longest_words(dir_name):\n",
    "    target_dict = dict()\n",
    "    for filename in os.listdir(dir_name):\n",
    "        target_dict[filename] = find_longest_word(dir_name + '/' + filename)\n",
    "    return target_dict\n",
    "\n",
    "find_all_longest_words('./books')"
   ]
  },
  {
   "cell_type": "code",
   "execution_count": 66,
   "metadata": {},
   "outputs": [
    {
     "name": "stdout",
     "output_type": "stream",
     "text": [
      "{'1342-0.txt': 'http://www.gutenberg.org/1/3/4/1342/', '2701-0.txt': 'http://www.gutenberg.org/2/7/0/2701/', '43-0.txt': 'http://www.gutenberg.org/4/43/', '46-0.txt': 'http://www.gutenberg.net/4/46/', '61105-0.txt': 'http://www.gutenberg.org/6/1/1/0/61105/', '84-0.txt': 'http://www.gutenberg.org/8/84/', 'pg25525.txt': 'http://www.gutenberg.org/2/5/5/2/25525/', 'pg28860.txt': 'http://www.gutenberg.org/2/8/8/6/28860/', 'pg345.txt': 'two-pages-to-the-week-with-Sunday-squeezed-in-a-corner', 'pg514.txt': '_________________________________________________'}\n"
     ]
    }
   ],
   "source": [
    "# 해설 코드\n",
    "## os.path.join()으로 운영 체제에 맞는 파일 구분 문자 선택하여 경로 연결\n",
    "## os.path.isfile()로 디렉토리가 아닌 파일인 경우만 열어서 최장 문자열 확인할 수 있게 함\n",
    "\n",
    "import os\n",
    "\n",
    "def find_longest_word(filename):\n",
    "    longest_word = ''\n",
    "    for one_line in open(filename):\n",
    "        for one_word in one_line.split():\n",
    "            if len(one_word) > len(longest_word):\n",
    "                longest_word = one_word\n",
    "    return longest_word\n",
    "\n",
    "def find_all_longest_words(dirname):\n",
    "    return {filename: find_longest_word(os.path.join(dirname, filename)) for filename in os.listdir(dirname) if os.path.isfile(os.path.join(dirname, filename))}\n",
    "\n",
    "print(find_all_longest_words('./books/'))\n",
    "    "
   ]
  },
  {
   "cell_type": "code",
   "execution_count": 82,
   "metadata": {},
   "outputs": [
    {
     "name": "stdout",
     "output_type": "stream",
     "text": [
      "{'./books\\\\1342-0.txt': 'http://www.gutenberg.org/1/3/4/1342/', './books\\\\2701-0.txt': 'http://www.gutenberg.org/2/7/0/2701/', './books\\\\43-0.txt': 'http://www.gutenberg.org/4/43/', './books\\\\46-0.txt': 'http://www.gutenberg.net/4/46/', './books\\\\61105-0.txt': 'http://www.gutenberg.org/6/1/1/0/61105/', './books\\\\84-0.txt': 'http://www.gutenberg.org/8/84/', './books\\\\pg25525.txt': 'http://www.gutenberg.org/2/5/5/2/25525/', './books\\\\pg28860.txt': 'http://www.gutenberg.org/2/8/8/6/28860/', './books\\\\pg345.txt': 'two-pages-to-the-week-with-Sunday-squeezed-in-a-corner', './books\\\\pg514.txt': '_________________________________________________'}\n"
     ]
    }
   ],
   "source": [
    "## glob을 쓰면 아래와 같이 할 수 있다.\n",
    "\n",
    "import glob\n",
    "import os\n",
    "\n",
    "def find_longest_word(filename):\n",
    "    longest_word = ''\n",
    "    for one_line in open(filename):\n",
    "        for one_word in one_line.split():\n",
    "            if len(one_word) > len(longest_word):\n",
    "                longest_word = one_word\n",
    "    return longest_word\n",
    "\n",
    "def find_all_longest_words(dirname):\n",
    "    return {filename: find_longest_word(filename) for filename in glob.glob(os.path.join(dirname, '*.txt')) if os.path.isfile(filename)}\n",
    "\n",
    "print(find_all_longest_words('./books/'))"
   ]
  },
  {
   "cell_type": "code",
   "execution_count": 83,
   "metadata": {},
   "outputs": [
    {
     "name": "stdout",
     "output_type": "stream",
     "text": [
      "{'books\\\\1342-0.txt': 'http://www.gutenberg.org/1/3/4/1342/', 'books\\\\2701-0.txt': 'http://www.gutenberg.org/2/7/0/2701/', 'books\\\\43-0.txt': 'http://www.gutenberg.org/4/43/', 'books\\\\46-0.txt': 'http://www.gutenberg.net/4/46/', 'books\\\\61105-0.txt': 'http://www.gutenberg.org/6/1/1/0/61105/', 'books\\\\84-0.txt': 'http://www.gutenberg.org/8/84/', 'books\\\\pg25525.txt': 'http://www.gutenberg.org/2/5/5/2/25525/', 'books\\\\pg28860.txt': 'http://www.gutenberg.org/2/8/8/6/28860/', 'books\\\\pg345.txt': 'two-pages-to-the-week-with-Sunday-squeezed-in-a-corner', 'books\\\\pg514.txt': '_________________________________________________'}\n"
     ]
    }
   ],
   "source": [
    "## pathlib을 쓰면 아래와 같이 할 수 있다.\n",
    "\n",
    "import pathlib\n",
    "import os\n",
    "\n",
    "def find_longest_word(filename):\n",
    "    longest_word = ''\n",
    "    for one_line in open(filename):\n",
    "        for one_word in one_line.split():\n",
    "            if len(one_word) > len(longest_word):\n",
    "                longest_word = one_word\n",
    "    return longest_word\n",
    "\n",
    "def find_all_longest_words(dirname):\n",
    "    path = pathlib.Path(dirname)\n",
    "    return {filename.__str__(): find_longest_word(filename) for filename in path.iterdir() if os.path.isfile(filename)}\n",
    "\n",
    "print(find_all_longest_words('./books/'))"
   ]
  },
  {
   "attachments": {},
   "cell_type": "markdown",
   "metadata": {},
   "source": [
    "## Exercise 22. CSV 읽고 쓰기\n",
    "* 줄바꿈(개행) 문자 지정\n",
    "* csv 모듈"
   ]
  },
  {
   "cell_type": "code",
   "execution_count": null,
   "metadata": {},
   "outputs": [],
   "source": [
    "import csv\n",
    "\n",
    "def passwd_to_csv(input_path, output_path):\n",
    "    data = []\n",
    "    with open(input_path) as f:\n",
    "        for line in f:\n",
    "            if line.strip() and not line.strip().startswith('#'):\n",
    "                line_list = line.split(':')\n",
    "                data.append((line_list[0], line_list[2]))\n",
    "    \n",
    "    with open(output_path, 'w', newline='\\n') as f:\n",
    "        w = csv.writer(f, delimiter='\\t')\n",
    "        for t in data:\n",
    "            print(t[0] + '\\t' + t[1])\n",
    "            w.writerow(t)\n",
    "    return\n",
    "passwd_to_csv('./passwd.txt', './output.csv')"
   ]
  },
  {
   "cell_type": "code",
   "execution_count": null,
   "metadata": {},
   "outputs": [],
   "source": [
    "# 해설 코드\n",
    "## 하나의 with 구문 안에서 파일을 여러 개 다룰 수 있구나\n",
    "## 읽어오는 방식도 csv 모듈 사용\n",
    "## 읽어들인 줄 수의 필드가 하나라면 ':'으로 구분되어 있지 않다는 뜻 => 해당 줄이 주석이거나 뭔가 잘못된 줄일 것임 => 이 방식으로 조건문 제시\n",
    "\n",
    "import csv\n",
    "\n",
    "def passwd_to_csv(passwd_filename, csv_filename):\n",
    "    with open(passwd_filename) as passwd, open(csv_filename, 'w') as output:\n",
    "        infile = csv.reader(passwd, delimiter=':')\n",
    "        outfile = csv.writer(output, delimiter='\\t')\n",
    "        for record in infile:\n",
    "            if len(record) > 1:\n",
    "                outfile.writerow((record[0], record[2])) "
   ]
  },
  {
   "attachments": {},
   "cell_type": "markdown",
   "metadata": {},
   "source": [
    "## Exercise 23. JSON 파일 읽어 들여 처리하기"
   ]
  },
  {
   "cell_type": "code",
   "execution_count": null,
   "metadata": {},
   "outputs": [],
   "source": []
  }
 ],
 "metadata": {
  "kernelspec": {
   "display_name": "base",
   "language": "python",
   "name": "python3"
  },
  "language_info": {
   "codemirror_mode": {
    "name": "ipython",
    "version": 3
   },
   "file_extension": ".py",
   "mimetype": "text/x-python",
   "name": "python",
   "nbconvert_exporter": "python",
   "pygments_lexer": "ipython3",
   "version": "3.10.9"
  },
  "orig_nbformat": 4
 },
 "nbformat": 4,
 "nbformat_minor": 2
}
