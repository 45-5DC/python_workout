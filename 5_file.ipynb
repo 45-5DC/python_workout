{
 "cells": [
  {
   "attachments": {},
   "cell_type": "markdown",
   "metadata": {},
   "source": [
    "# 5장. 파일"
   ]
  },
  {
   "attachments": {},
   "cell_type": "markdown",
   "metadata": {},
   "source": [
    "## Exercise 18. 마지막 줄 추출하기"
   ]
  },
  {
   "cell_type": "code",
   "execution_count": 9,
   "metadata": {},
   "outputs": [
    {
     "name": "stdout",
     "output_type": "stream",
     "text": [
      "_launchservicesd:*:239:239::0:0:_launchservicesd:/var/empty:/usr/bin/false\n",
      "\n"
     ]
    }
   ],
   "source": [
    "def get_final_line(filename):\n",
    "    with open(filename) as f:\n",
    "        last = ''\n",
    "        for line in f: ## 불러온 파일 객체에 반복문 돌리면 한 줄 씩 뽑는구나.\n",
    "            last = line\n",
    "    return last\n",
    "\n",
    "print(get_final_line('passwd.txt'))"
   ]
  },
  {
   "attachments": {},
   "cell_type": "markdown",
   "metadata": {},
   "source": [
    "## Exercise 19. /etc/passwd를 딕셔너리로 바꾸기"
   ]
  },
  {
   "cell_type": "code",
   "execution_count": 11,
   "metadata": {},
   "outputs": [
    {
     "name": "stdout",
     "output_type": "stream",
     "text": [
      "{'nobody': '-2', 'root': '0', 'daemon': '1', '_uucp': '4', '_taskgated': '13', '_networkd': '24', '_installassistant': '25', '_lp': '26', '_postfix': '27', '_scsd': '31', '_ces': '32', '_mcxalr': '54', '_appleevents': '55', '_geod': '56', '_serialnumberd': '58', '_devdocs': '59', '_sandbox': '60', '_mdnsresponder': '65', '_ard': '67', '_www': '70', '_eppc': '71', '_cvs': '72', '_svn': '73', '_mysql': '74', '_sshd': '75', '_qtss': '76', '_cyrus': '77', '_mailman': '78', '_appserver': '79', '_clamav': '82', '_amavisd': '83', '_jabber': '84', '_appowner': '87', '_windowserver': '88', '_spotlight': '89', '_tokend': '91', '_securityagent': '92', '_calendar': '93', '_teamsserver': '94', '_update_sharing': '95', '_installer': '96', '_atsserver': '97', '_ftp': '98', '_unknown': '99', '_softwareupdate': '200', '_coreaudiod': '202', '_screensaver': '203', '_locationd': '205', '_trustevaluationagent': '208', '_timezone': '210', '_lda': '211', '_cvmsroot': '212', '_usbmuxd': '213', '_dovecot': '214', '_dpaudio': '215', '_postgres': '216', '_krbtgt': '217', '_kadmin_admin': '218', '_kadmin_changepw': '219', '_devicemgr': '220', '_webauthserver': '221', '_netbios': '222', '_warmd': '224', '_dovenull': '227', '_netstatistics': '228', '_avbdeviced': '229', '_krb_krbtgt': '230', '_krb_kadmin': '231', '_krb_changepw': '232', '_krb_kerberos': '233', '_krb_anonymous': '234', '_assetcache': '235', '_coremediaiod': '236', '_xcsbuildagent': '237', '_xcscredserver': '238', '_launchservicesd': '239'}\n"
     ]
    }
   ],
   "source": [
    "def passwd_to_dict():\n",
    "    target_dict = {}\n",
    "    with open('passwd.txt') as f:\n",
    "        for line in f:\n",
    "            if line.strip() and not line.strip().startswith('#'): ## if not line.startswith(('#', '\\n')) 이런 식으로 할 수도 있음. 튜플로 여러 개 넣을 수 있구나\n",
    "                split_line = line.split(':')\n",
    "                target_dict[split_line[0]] = split_line[2] ## 답지에선 값에 int()를 씌워줬다.\n",
    "    return target_dict\n",
    "\n",
    "print(passwd_to_dict())"
   ]
  },
  {
   "attachments": {},
   "cell_type": "markdown",
   "metadata": {},
   "source": [
    "## Exercise 20. 글자 수 세기"
   ]
  },
  {
   "cell_type": "code",
   "execution_count": 17,
   "metadata": {},
   "outputs": [
    {
     "name": "stdout",
     "output_type": "stream",
     "text": [
      "글자 수(공백 포함): 164\n",
      "단어 수(띄어쓰기로 구분된 요소 수): 28\n",
      "줄 수: 11\n",
      "유일한 단어 수(대소문자 구분 O): 20\n"
     ]
    },
    {
     "data": {
      "text/plain": [
       "(164, 28, 11, 20)"
      ]
     },
     "execution_count": 17,
     "metadata": {},
     "output_type": "execute_result"
    }
   ],
   "source": [
    "def wc(filename):\n",
    "    with open(filename) as f:\n",
    "        data = f.read().strip() # 마지막 줄이 그냥 공백이어서 strip()을 해줘야 해답과 동일한 줄 수가 나온다\n",
    "        print(f'글자 수(공백 포함): {len(data)}')\n",
    "        print(f'단어 수(띄어쓰기로 구분된 요소 수): {len(data.split())}')\n",
    "        line_list = data.split('\\n')\n",
    "        print(f\"줄 수: {len(line_list)}\")\n",
    "        print(f'유일한 단어 수(대소문자 구분 O): {len(set(data.split()))}')\n",
    "    return len(data), len(data.split()), len(data.split(\"\\n\")), len(set(data.split()))\n",
    "\n",
    "wc('wcfile.txt')"
   ]
  },
  {
   "cell_type": "code",
   "execution_count": 18,
   "metadata": {},
   "outputs": [
    {
     "name": "stdout",
     "output_type": "stream",
     "text": [
      "characters: 165\n",
      "words: 28\n",
      "lines: 11\n",
      "unique words: 20\n"
     ]
    }
   ],
   "source": [
    "# 해설 코드\n",
    "# .read() 안 쓰고 반복문으로 해결하기\n",
    "\n",
    "def wordcount(filename):\n",
    "    counts = {'characters': 0,\n",
    "              'words': 0,\n",
    "              'lines': 0}\n",
    "    unique_words = set()\n",
    "    \n",
    "    for one_line in open(filename):\n",
    "        counts['lines'] += 1\n",
    "        counts['characters'] += len(one_line)\n",
    "        counts['words'] += len(one_line.split())\n",
    "        \n",
    "        unique_words.update(one_line.split())\n",
    "        \n",
    "    counts['unique words'] = len(unique_words)\n",
    "    for key, value in counts.items():\n",
    "        print(f'{key}: {value}')\n",
    "\n",
    "wordcount('wcfile.txt')"
   ]
  },
  {
   "attachments": {},
   "cell_type": "markdown",
   "metadata": {},
   "source": [
    "## Exercise 21. 파일에서 가장 긴 단어 찾기"
   ]
  },
  {
   "cell_type": "code",
   "execution_count": null,
   "metadata": {},
   "outputs": [],
   "source": []
  }
 ],
 "metadata": {
  "kernelspec": {
   "display_name": "base",
   "language": "python",
   "name": "python3"
  },
  "language_info": {
   "codemirror_mode": {
    "name": "ipython",
    "version": 3
   },
   "file_extension": ".py",
   "mimetype": "text/x-python",
   "name": "python",
   "nbconvert_exporter": "python",
   "pygments_lexer": "ipython3",
   "version": "3.10.9"
  },
  "orig_nbformat": 4
 },
 "nbformat": 4,
 "nbformat_minor": 2
}
