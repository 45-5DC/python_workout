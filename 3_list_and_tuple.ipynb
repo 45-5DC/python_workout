{
 "cells": [
  {
   "attachments": {},
   "cell_type": "markdown",
   "metadata": {},
   "source": [
    "# 3. 리스트와 튜플"
   ]
  },
  {
   "attachments": {},
   "cell_type": "markdown",
   "metadata": {},
   "source": [
    "## Exercise 09. 처음과 마지막 요소 찾기"
   ]
  },
  {
   "cell_type": "code",
   "execution_count": 2,
   "metadata": {},
   "outputs": [
    {
     "name": "stdout",
     "output_type": "stream",
     "text": [
      "ac\n",
      "[1, 4]\n",
      "(1, 4)\n"
     ]
    }
   ],
   "source": [
    "def firstlast(seq):\n",
    "    seqtype = type(seq)\n",
    "    if seqtype == str:\n",
    "        return seq[0] + seq[-1]\n",
    "    elif seqtype == list:\n",
    "        return [seq[0], seq[-1]]\n",
    "    elif seqtype == tuple:\n",
    "        return seq[0], seq[-1]\n",
    "\n",
    "print(firstlast('abc'))\n",
    "print(firstlast([1,2,3,4]))\n",
    "print(firstlast((1,2,3,4)))"
   ]
  },
  {
   "cell_type": "code",
   "execution_count": 3,
   "metadata": {},
   "outputs": [
    {
     "name": "stdout",
     "output_type": "stream",
     "text": [
      "ad\n"
     ]
    }
   ],
   "source": [
    "# 해설 코드\n",
    "## 슬라이싱을 이용하면 자료형이 그대로 나오므로 조건문을 사용하지 않아도 된다.\n",
    "\n",
    "def firstlast(sequence):\n",
    "    return sequence[:1] + sequence[-1:]\n",
    "\n",
    "print(firstlast('abcd'))"
   ]
  },
  {
   "attachments": {},
   "cell_type": "markdown",
   "metadata": {},
   "source": [
    "## Exercise 10. 아무것이나 더하기"
   ]
  },
  {
   "cell_type": "code",
   "execution_count": 11,
   "metadata": {},
   "outputs": [
    {
     "name": "stdout",
     "output_type": "stream",
     "text": [
      "abcdef\n",
      "[1, 2, 3, 4, 5, 6]\n",
      "None\n",
      "123\n"
     ]
    }
   ],
   "source": [
    "def mysum(*data):\n",
    "    if not data:\n",
    "        return ## return data # 로 하면 빈 튜플을 리턴\n",
    "    result = data[0]\n",
    "    for d in data[1:]:\n",
    "        result += d\n",
    "    return result\n",
    "\n",
    "print(mysum('abc', 'def'))\n",
    "print(mysum([1,2,3], [4,5,6]))\n",
    "print(mysum())\n",
    "print(mysum(123))\n",
    "\n",
    "## 놓친 점) 매개변수로 아무 것도 들어오지 않았을 경우 오류가 발생하므로 처리해주어야 한다.\n",
    "## 참고) 슬라이싱은 시퀀스의 길이를 넘어가면 오류를 내는 게 아니라 그냥 넘어가므로, 매개변수를 1개만 입력해도 잘 돌아간다"
   ]
  },
  {
   "attachments": {},
   "cell_type": "markdown",
   "metadata": {},
   "source": [
    "## Exercise 11. 이름을 알파벳 순서로 정렬하기"
   ]
  },
  {
   "cell_type": "code",
   "execution_count": 14,
   "metadata": {},
   "outputs": [
    {
     "name": "stdout",
     "output_type": "stream",
     "text": [
      "[{'first': 'Aeuven', 'last': 'Lerner', 'email': 'reuven@lerner.co.il'}, {'first': 'Reuven', 'last': 'Lerner', 'email': 'reuven@lerner.co.il'}, {'first': 'Vladimir', 'last': 'Putin', 'email': 'president@kremvax.ru'}, {'first': 'Donald', 'last': 'Trump', 'email': 'president@whitehouse.gov'}]\n"
     ]
    }
   ],
   "source": [
    "PEOPLE = [{\n",
    "    'first':'Reuven', 'last':'Lerner',\n",
    "    'email': 'reuven@lerner.co.il'\n",
    "}, {\n",
    "    'first':'Aeuven', 'last':'Lerner',\n",
    "    'email': 'reuven@lerner.co.il'\n",
    "}, {\n",
    "    'first': 'Donald', 'last': 'Trump',\n",
    "    'email': 'president@whitehouse.gov'\n",
    "}, {\n",
    "    'first': 'Vladimir', 'last': 'Putin',\n",
    "    'email': 'president@kremvax.ru'\n",
    "}]\n",
    "\n",
    "def alphabetize_names(people):\n",
    "    return sorted(people, key= lambda x: (x['last'], x['first']))\n",
    "\n",
    "print(alphabetize_names(PEOPLE))"
   ]
  },
  {
   "cell_type": "code",
   "execution_count": 15,
   "metadata": {},
   "outputs": [
    {
     "name": "stdout",
     "output_type": "stream",
     "text": [
      "[{'first': 'Aeuven', 'last': 'Lerner', 'email': 'reuven@lerner.co.il'}, {'first': 'Reuven', 'last': 'Lerner', 'email': 'reuven@lerner.co.il'}, {'first': 'Vladimir', 'last': 'Putin', 'email': 'president@kremvax.ru'}, {'first': 'Donald', 'last': 'Trump', 'email': 'president@whitehouse.gov'}]\n"
     ]
    }
   ],
   "source": [
    "# 해설 코드\n",
    "# operatort.itemgetter() 사용\n",
    "import operator\n",
    "\n",
    "def alphabetize_names(list_of_dicts):\n",
    "    return sorted(list_of_dicts, key= operator.itemgetter('last', 'first'))\n",
    "\n",
    "print(alphabetize_names(PEOPLE))"
   ]
  },
  {
   "cell_type": "code",
   "execution_count": null,
   "metadata": {},
   "outputs": [],
   "source": []
  }
 ],
 "metadata": {
  "kernelspec": {
   "display_name": "base",
   "language": "python",
   "name": "python3"
  },
  "language_info": {
   "codemirror_mode": {
    "name": "ipython",
    "version": 3
   },
   "file_extension": ".py",
   "mimetype": "text/x-python",
   "name": "python",
   "nbconvert_exporter": "python",
   "pygments_lexer": "ipython3",
   "version": "3.10.9"
  },
  "orig_nbformat": 4
 },
 "nbformat": 4,
 "nbformat_minor": 2
}
