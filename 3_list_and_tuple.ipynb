{
 "cells": [
  {
   "attachments": {},
   "cell_type": "markdown",
   "metadata": {},
   "source": [
    "# 3. 리스트와 튜플"
   ]
  },
  {
   "attachments": {},
   "cell_type": "markdown",
   "metadata": {},
   "source": [
    "## Exercise 09. 처음과 마지막 요소 찾기"
   ]
  },
  {
   "cell_type": "code",
   "execution_count": 2,
   "metadata": {},
   "outputs": [
    {
     "name": "stdout",
     "output_type": "stream",
     "text": [
      "ac\n",
      "[1, 4]\n",
      "(1, 4)\n"
     ]
    }
   ],
   "source": [
    "def firstlast(seq):\n",
    "    seqtype = type(seq)\n",
    "    if seqtype == str:\n",
    "        return seq[0] + seq[-1]\n",
    "    elif seqtype == list:\n",
    "        return [seq[0], seq[-1]]\n",
    "    elif seqtype == tuple:\n",
    "        return seq[0], seq[-1]\n",
    "\n",
    "print(firstlast('abc'))\n",
    "print(firstlast([1,2,3,4]))\n",
    "print(firstlast((1,2,3,4)))"
   ]
  },
  {
   "cell_type": "code",
   "execution_count": 3,
   "metadata": {},
   "outputs": [
    {
     "name": "stdout",
     "output_type": "stream",
     "text": [
      "ad\n"
     ]
    }
   ],
   "source": [
    "# 해설 코드\n",
    "## 슬라이싱을 이용하면 자료형이 그대로 나오므로 조건문을 사용하지 않아도 된다.\n",
    "\n",
    "def firstlast(sequence):\n",
    "    return sequence[:1] + sequence[-1:]\n",
    "\n",
    "print(firstlast('abcd'))"
   ]
  },
  {
   "attachments": {},
   "cell_type": "markdown",
   "metadata": {},
   "source": [
    "## Exercise 10. 아무것이나 더하기"
   ]
  },
  {
   "cell_type": "code",
   "execution_count": 11,
   "metadata": {},
   "outputs": [
    {
     "name": "stdout",
     "output_type": "stream",
     "text": [
      "abcdef\n",
      "[1, 2, 3, 4, 5, 6]\n",
      "None\n",
      "123\n"
     ]
    }
   ],
   "source": [
    "def mysum(*data):\n",
    "    if not data:\n",
    "        return ## return data # 로 하면 빈 튜플을 리턴\n",
    "    result = data[0]\n",
    "    for d in data[1:]:\n",
    "        result += d\n",
    "    return result\n",
    "\n",
    "print(mysum('abc', 'def'))\n",
    "print(mysum([1,2,3], [4,5,6]))\n",
    "print(mysum())\n",
    "print(mysum(123))\n",
    "\n",
    "## 놓친 점) 매개변수로 아무 것도 들어오지 않았을 경우 오류가 발생하므로 처리해주어야 한다.\n",
    "## 참고) 슬라이싱은 시퀀스의 길이를 넘어가면 오류를 내는 게 아니라 그냥 넘어가므로, 매개변수를 1개만 입력해도 잘 돌아간다"
   ]
  },
  {
   "attachments": {},
   "cell_type": "markdown",
   "metadata": {},
   "source": [
    "## Exercise 11. 이름을 알파벳 순서로 정렬하기"
   ]
  },
  {
   "cell_type": "code",
   "execution_count": 14,
   "metadata": {},
   "outputs": [
    {
     "name": "stdout",
     "output_type": "stream",
     "text": [
      "[{'first': 'Aeuven', 'last': 'Lerner', 'email': 'reuven@lerner.co.il'}, {'first': 'Reuven', 'last': 'Lerner', 'email': 'reuven@lerner.co.il'}, {'first': 'Vladimir', 'last': 'Putin', 'email': 'president@kremvax.ru'}, {'first': 'Donald', 'last': 'Trump', 'email': 'president@whitehouse.gov'}]\n"
     ]
    }
   ],
   "source": [
    "PEOPLE = [{\n",
    "    'first':'Reuven', 'last':'Lerner',\n",
    "    'email': 'reuven@lerner.co.il'\n",
    "}, {\n",
    "    'first':'Aeuven', 'last':'Lerner',\n",
    "    'email': 'reuven@lerner.co.il'\n",
    "}, {\n",
    "    'first': 'Donald', 'last': 'Trump',\n",
    "    'email': 'president@whitehouse.gov'\n",
    "}, {\n",
    "    'first': 'Vladimir', 'last': 'Putin',\n",
    "    'email': 'president@kremvax.ru'\n",
    "}]\n",
    "\n",
    "def alphabetize_names(people):\n",
    "    return sorted(people, key= lambda x: (x['last'], x['first']))\n",
    "\n",
    "print(alphabetize_names(PEOPLE))"
   ]
  },
  {
   "cell_type": "code",
   "execution_count": 15,
   "metadata": {},
   "outputs": [
    {
     "name": "stdout",
     "output_type": "stream",
     "text": [
      "[{'first': 'Aeuven', 'last': 'Lerner', 'email': 'reuven@lerner.co.il'}, {'first': 'Reuven', 'last': 'Lerner', 'email': 'reuven@lerner.co.il'}, {'first': 'Vladimir', 'last': 'Putin', 'email': 'president@kremvax.ru'}, {'first': 'Donald', 'last': 'Trump', 'email': 'president@whitehouse.gov'}]\n"
     ]
    }
   ],
   "source": [
    "# 해설 코드\n",
    "# operatort.itemgetter() 사용\n",
    "import operator\n",
    "\n",
    "def alphabetize_names(list_of_dicts):\n",
    "    return sorted(list_of_dicts, key= operator.itemgetter('last', 'first'))\n",
    "\n",
    "print(alphabetize_names(PEOPLE))"
   ]
  },
  {
   "attachments": {},
   "cell_type": "markdown",
   "metadata": {},
   "source": [
    "## Exercise 12. 특정 글자를 가장 많이 가진 단어 찾기"
   ]
  },
  {
   "cell_type": "code",
   "execution_count": 6,
   "metadata": {},
   "outputs": [
    {
     "data": {
      "text/plain": [
       "'elementary'"
      ]
     },
     "execution_count": 6,
     "metadata": {},
     "output_type": "execute_result"
    }
   ],
   "source": [
    "# Counter와 most_common() 이용하라\n",
    "\n",
    "from collections import Counter\n",
    "\n",
    "def most_repeating_word(str_seq):\n",
    "    answer = ''\n",
    "    most_freq = 0\n",
    "    for s in str_seq:\n",
    "        most_letter = Counter(s).most_common()[0] # most_common(1)[0]의 형태로 사용해도 같음\n",
    "        if most_letter[1] > most_freq:\n",
    "            answer = s\n",
    "            most_freq = most_letter[1]\n",
    "    return answer\n",
    "\n",
    "most_repeating_word(['this', 'is', 'an', 'elementary', 'test', 'example'])"
   ]
  },
  {
   "cell_type": "code",
   "execution_count": 5,
   "metadata": {},
   "outputs": [
    {
     "data": {
      "text/plain": [
       "[('p', 2), ('a', 1), ('l', 1), ('e', 1)]"
      ]
     },
     "execution_count": 5,
     "metadata": {},
     "output_type": "execute_result"
    }
   ],
   "source": [
    "# 해설 코드\n",
    "# max()에 key 키워드 매개변수 사용\n",
    "\n",
    "from collections import Counter\n",
    "import operator\n",
    "\n",
    "WORDS = ['this', 'is', 'an', 'elementary', 'test', 'example']\n",
    "\n",
    "def most_repeating_letter_count(word):\n",
    "    '''\n",
    "    어떤 글자가 가장 많이 등장하는지 확인하고, 등장 횟수를 리턴하는 함수\n",
    "    '''\n",
    "    return Counter(word).most_common(1)[0][1]\n",
    "\n",
    "def most_repeating_word(words):\n",
    "    return max(words, key=most_repeating_letter_count)\n",
    "\n",
    "print(most_repeating_word(WORDS))"
   ]
  },
  {
   "attachments": {},
   "cell_type": "markdown",
   "metadata": {},
   "source": [
    "## Exercise 13. 튜플 레코드 출력하기"
   ]
  },
  {
   "cell_type": "code",
   "execution_count": 18,
   "metadata": {},
   "outputs": [
    {
     "name": "stdout",
     "output_type": "stream",
     "text": [
      "Putin      Vladmir     3.63\n",
      "Trump      Donald      7.85\n",
      "Xi         Jinping    10.60\n"
     ]
    }
   ],
   "source": [
    "import operator\n",
    "\n",
    "PEOPLE = [('Donald', 'Trump', 7.85),\n",
    "          ('Vladmir', 'Putin', 3.626),\n",
    "          ('Jinping', 'Xi', 10.603)]\n",
    "\n",
    "def format_sort_records(people):\n",
    "    answer = []\n",
    "    for record in sorted(people, key=operator.itemgetter(1, 0)):\n",
    "        answer.append(f'{record[1]:10} {record[0]:10} {record[2]:5.2f}')\n",
    "    \n",
    "    return '\\n'.join(answer)\n",
    "\n",
    "print(format_sort_records(PEOPLE))"
   ]
  },
  {
   "cell_type": "code",
   "execution_count": 21,
   "metadata": {},
   "outputs": [
    {
     "name": "stdout",
     "output_type": "stream",
     "text": [
      "Putin      Vladmir     3.63\n",
      "Trump      Donald      7.85\n",
      "Xi         Jinping    10.60\n"
     ]
    }
   ],
   "source": [
    "# 해설 코드\n",
    "# 전개 연산자 이용\n",
    "\n",
    "def format_sort_records(list_of_tuples):\n",
    "    output = []\n",
    "    template = '{1:10} {0:10} {2:5.2f}'\n",
    "    for person in sorted(list_of_tuples, key=operator.itemgetter(1,0)):\n",
    "        output.append(template.format(*person))\n",
    "    return output\n",
    "\n",
    "print('\\n'.join(format_sort_records(PEOPLE)))"
   ]
  },
  {
   "cell_type": "code",
   "execution_count": null,
   "metadata": {},
   "outputs": [],
   "source": []
  }
 ],
 "metadata": {
  "kernelspec": {
   "display_name": "base",
   "language": "python",
   "name": "python3"
  },
  "language_info": {
   "codemirror_mode": {
    "name": "ipython",
    "version": 3
   },
   "file_extension": ".py",
   "mimetype": "text/x-python",
   "name": "python",
   "nbconvert_exporter": "python",
   "pygments_lexer": "ipython3",
   "version": "3.10.9"
  },
  "orig_nbformat": 4
 },
 "nbformat": 4,
 "nbformat_minor": 2
}
