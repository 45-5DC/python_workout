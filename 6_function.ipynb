{
 "cells": [
  {
   "attachments": {},
   "cell_type": "markdown",
   "metadata": {},
   "source": [
    "# 6장. 함수"
   ]
  },
  {
   "attachments": {},
   "cell_type": "markdown",
   "metadata": {},
   "source": [
    "## Exercise 25. XML 생성기 만들기"
   ]
  },
  {
   "cell_type": "code",
   "execution_count": 41,
   "metadata": {},
   "outputs": [
    {
     "data": {
      "text/plain": [
       "'<foo a=1 b=2 c=3>bar</foo>'"
      ]
     },
     "execution_count": 41,
     "metadata": {},
     "output_type": "execute_result"
    }
   ],
   "source": [
    "def myxml(tagname, text, **kwargs):\n",
    "    return f'<{tagname} {\" \".join([f\"{k}={v}\" for k, v in kwargs.items()])}>{text}</{tagname}>'\n",
    "\n",
    "myxml('foo', 'bar', a=1, b=2, c=3)"
   ]
  },
  {
   "cell_type": "code",
   "execution_count": 47,
   "metadata": {},
   "outputs": [
    {
     "data": {
      "text/plain": [
       "'<foo a=\"1\" b=\"2\" c=\"3\">bar</foo>'"
      ]
     },
     "execution_count": 47,
     "metadata": {},
     "output_type": "execute_result"
    }
   ],
   "source": [
    "# 해설 코드\n",
    "## content 변수가 입력되지 않아도 tagname은 리턴되어야 함 => content를 기본 매개변수로 설정\n",
    "## 정확한 리턴을 위해 kwargs부분을 따로 변수로 만들어 처리한 뒤 리턴 값에 넣어주기\n",
    "\n",
    "def myxml(tagname, content='', **kwargs):\n",
    "    attr = \"\".join([f' {k}=\"{v}\"' for k, v in kwargs.items()])\n",
    "    return f'<{tagname}{attr}>{content}</{tagname}>'\n",
    "\n",
    "myxml('foo', 'bar', a=1, b=2, c=3)"
   ]
  },
  {
   "attachments": {},
   "cell_type": "markdown",
   "metadata": {},
   "source": [
    "## Exercise 26. 전위 표기법 계산기 만들기 // RE"
   ]
  },
  {
   "cell_type": "code",
   "execution_count": 1,
   "metadata": {},
   "outputs": [
    {
     "name": "stdout",
     "output_type": "stream",
     "text": [
      "5\n"
     ]
    }
   ],
   "source": [
    "import operator\n",
    "\n",
    "def calc(prefix_notation):\n",
    "    operators = {\n",
    "        '+': operator.add,\n",
    "        '-': operator.sub,\n",
    "        '*': operator.mul,\n",
    "        '/': operator.truediv,\n",
    "        '**': operator.pow,\n",
    "        '%': operator.mod\n",
    "    }\n",
    "    \n",
    "    oper, num1, num2 = prefix_notation.split()\n",
    "\n",
    "    return operators[oper](int(num1), int(num2))\n",
    "\n",
    "print(calc('+ 2 3'))"
   ]
  },
  {
   "attachments": {},
   "cell_type": "markdown",
   "metadata": {},
   "source": [
    "## Exercise 27. 비밀번호 생성기 만들기"
   ]
  },
  {
   "cell_type": "code",
   "execution_count": null,
   "metadata": {},
   "outputs": [],
   "source": []
  }
 ],
 "metadata": {
  "kernelspec": {
   "display_name": "base",
   "language": "python",
   "name": "python3"
  },
  "language_info": {
   "codemirror_mode": {
    "name": "ipython",
    "version": 3
   },
   "file_extension": ".py",
   "mimetype": "text/x-python",
   "name": "python",
   "nbconvert_exporter": "python",
   "pygments_lexer": "ipython3",
   "version": "3.10.9"
  },
  "orig_nbformat": 4
 },
 "nbformat": 4,
 "nbformat_minor": 2
}
