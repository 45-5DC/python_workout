{
 "cells": [
  {
   "attachments": {},
   "cell_type": "markdown",
   "metadata": {},
   "source": [
    "# 6장. 함수"
   ]
  },
  {
   "attachments": {},
   "cell_type": "markdown",
   "metadata": {},
   "source": [
    "## Exercise 25. XML 생성기 만들기"
   ]
  },
  {
   "cell_type": "code",
   "execution_count": 41,
   "metadata": {},
   "outputs": [
    {
     "data": {
      "text/plain": [
       "'<foo a=1 b=2 c=3>bar</foo>'"
      ]
     },
     "execution_count": 41,
     "metadata": {},
     "output_type": "execute_result"
    }
   ],
   "source": [
    "def myxml(tagname, text, **kwargs):\n",
    "    return f'<{tagname} {\" \".join([f\"{k}={v}\" for k, v in kwargs.items()])}>{text}</{tagname}>'\n",
    "\n",
    "myxml('foo', 'bar', a=1, b=2, c=3)"
   ]
  },
  {
   "cell_type": "code",
   "execution_count": 47,
   "metadata": {},
   "outputs": [
    {
     "data": {
      "text/plain": [
       "'<foo a=\"1\" b=\"2\" c=\"3\">bar</foo>'"
      ]
     },
     "execution_count": 47,
     "metadata": {},
     "output_type": "execute_result"
    }
   ],
   "source": [
    "# 해설 코드\n",
    "## content 변수가 입력되지 않아도 tagname은 리턴되어야 함 => content를 기본 매개변수로 설정\n",
    "## 정확한 리턴을 위해 kwargs부분을 따로 변수로 만들어 처리한 뒤 리턴 값에 넣어주기\n",
    "\n",
    "def myxml(tagname, content='', **kwargs):\n",
    "    attr = \"\".join([f' {k}=\"{v}\"' for k, v in kwargs.items()])\n",
    "    return f'<{tagname}{attr}>{content}</{tagname}>'\n",
    "\n",
    "myxml('foo', 'bar', a=1, b=2, c=3)"
   ]
  },
  {
   "attachments": {},
   "cell_type": "markdown",
   "metadata": {},
   "source": [
    "## Exercise 26. 전위 표기법 계산기 만들기 // RE"
   ]
  },
  {
   "cell_type": "code",
   "execution_count": 1,
   "metadata": {},
   "outputs": [
    {
     "name": "stdout",
     "output_type": "stream",
     "text": [
      "5\n"
     ]
    }
   ],
   "source": [
    "import operator\n",
    "\n",
    "def calc(prefix_notation):\n",
    "    operators = {\n",
    "        '+': operator.add,\n",
    "        '-': operator.sub,\n",
    "        '*': operator.mul,\n",
    "        '/': operator.truediv,\n",
    "        '**': operator.pow,\n",
    "        '%': operator.mod\n",
    "    }\n",
    "    \n",
    "    oper, num1, num2 = prefix_notation.split()\n",
    "\n",
    "    return operators[oper](int(num1), int(num2))\n",
    "\n",
    "print(calc('+ 2 3'))"
   ]
  },
  {
   "attachments": {},
   "cell_type": "markdown",
   "metadata": {},
   "source": [
    "## Exercise 27. 비밀번호 생성기 만들기 // RE"
   ]
  },
  {
   "cell_type": "code",
   "execution_count": 32,
   "metadata": {},
   "outputs": [
    {
     "ename": "TypeError",
     "evalue": "object of type 'int' has no len()",
     "output_type": "error",
     "traceback": [
      "\u001b[1;31m---------------------------------------------------------------------------\u001b[0m",
      "\u001b[1;31mTypeError\u001b[0m                                 Traceback (most recent call last)",
      "Cell \u001b[1;32mIn[32], line 13\u001b[0m\n\u001b[0;32m      9\u001b[0m     \u001b[39mreturn\u001b[39;00m create_password\n\u001b[0;32m     11\u001b[0m alpha_password \u001b[39m=\u001b[39m create_password_generator(\u001b[39m'\u001b[39m\u001b[39mabcdef\u001b[39m\u001b[39m'\u001b[39m)\n\u001b[1;32m---> 13\u001b[0m \u001b[39mprint\u001b[39m(alpha_password(\u001b[39m5\u001b[39;49m))\n",
      "Cell \u001b[1;32mIn[32], line 7\u001b[0m, in \u001b[0;36mcreate_password_generator.<locals>.create_password\u001b[1;34m(string)\u001b[0m\n\u001b[0;32m      5\u001b[0m output \u001b[39m=\u001b[39m []\n\u001b[0;32m      6\u001b[0m \u001b[39mfor\u001b[39;00m _ \u001b[39min\u001b[39;00m \u001b[39mrange\u001b[39m(string):\n\u001b[1;32m----> 7\u001b[0m     output\u001b[39m.\u001b[39mappend(random\u001b[39m.\u001b[39;49mchoice(string))\n\u001b[0;32m      8\u001b[0m \u001b[39mreturn\u001b[39;00m \u001b[39m'\u001b[39m\u001b[39m'\u001b[39m\u001b[39m.\u001b[39mjoin(output)\n",
      "File \u001b[1;32md:\\anaconda3\\lib\\random.py:378\u001b[0m, in \u001b[0;36mRandom.choice\u001b[1;34m(self, seq)\u001b[0m\n\u001b[0;32m    376\u001b[0m \u001b[39m\"\"\"Choose a random element from a non-empty sequence.\"\"\"\u001b[39;00m\n\u001b[0;32m    377\u001b[0m \u001b[39m# raises IndexError if seq is empty\u001b[39;00m\n\u001b[1;32m--> 378\u001b[0m \u001b[39mreturn\u001b[39;00m seq[\u001b[39mself\u001b[39m\u001b[39m.\u001b[39m_randbelow(\u001b[39mlen\u001b[39;49m(seq))]\n",
      "\u001b[1;31mTypeError\u001b[0m: object of type 'int' has no len()"
     ]
    }
   ],
   "source": [
    "# 틀린 코드\n",
    "\n",
    "import random\n",
    "\n",
    "def create_password_generator(string):\n",
    "    def create_password(string):\n",
    "        output = []\n",
    "        for _ in range(string):\n",
    "            output.append(random.choice(string))\n",
    "        return ''.join(output)\n",
    "    return create_password\n",
    "\n",
    "alpha_password = create_password_generator('abcdef')\n",
    "\n",
    "print(alpha_password(5))"
   ]
  },
  {
   "cell_type": "code",
   "execution_count": 33,
   "metadata": {},
   "outputs": [
    {
     "name": "stdout",
     "output_type": "stream",
     "text": [
      "fddaa\n",
      "ddfbeffcfe\n",
      "#$##$\n",
      "%%%@$#%!#%\n"
     ]
    }
   ],
   "source": [
    "# 맞는 코드\n",
    "\n",
    "import random\n",
    "\n",
    "def create_password_generator(string):\n",
    "    def create_password(length):\n",
    "        output = []\n",
    "        for _ in range(length):\n",
    "            output.append(random.choice(string))\n",
    "        return ''.join(output)\n",
    "    return create_password\n",
    "\n",
    "alpha_password = create_password_generator('abcdef')\n",
    "symbol_password = create_password_generator('!@#$%')\n",
    "\n",
    "print(alpha_password(5))\n",
    "print(alpha_password(10))\n",
    "\n",
    "print(symbol_password(5))\n",
    "print(symbol_password(10))"
   ]
  }
 ],
 "metadata": {
  "kernelspec": {
   "display_name": "base",
   "language": "python",
   "name": "python3"
  },
  "language_info": {
   "codemirror_mode": {
    "name": "ipython",
    "version": 3
   },
   "file_extension": ".py",
   "mimetype": "text/x-python",
   "name": "python",
   "nbconvert_exporter": "python",
   "pygments_lexer": "ipython3",
   "version": "3.10.9"
  },
  "orig_nbformat": 4
 },
 "nbformat": 4,
 "nbformat_minor": 2
}
