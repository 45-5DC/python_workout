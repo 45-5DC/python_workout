{
 "cells": [
  {
   "attachments": {},
   "cell_type": "markdown",
   "metadata": {},
   "source": [
    "# 4. 딕셔너리와 세트"
   ]
  },
  {
   "attachments": {},
   "cell_type": "markdown",
   "metadata": {},
   "source": [
    "## Exercise 14. 식당 주문 프로그램 만들기"
   ]
  },
  {
   "cell_type": "code",
   "execution_count": 7,
   "metadata": {},
   "outputs": [
    {
     "name": "stdout",
     "output_type": "stream",
     "text": [
      "sandwich costs 10, total is 10\n",
      "tea costs 7, total is 7\n",
      "Sorry, we are fresh out of elephant today.\n",
      "Your total is 0\n"
     ]
    }
   ],
   "source": [
    "MENU = {'sandwich': 10, 'tea': 7}\n",
    "\n",
    "def restaurant():\n",
    "    while True:\n",
    "        food = input('Order: ') # .strip()으로 공백 제거 해주면 좋다\n",
    "        total = 0\n",
    "        \n",
    "        if not food:\n",
    "            print(f'Your total is {total}')\n",
    "            return\n",
    "        \n",
    "        if food in MENU:\n",
    "            total += MENU[food]\n",
    "            print(f'{food} costs {MENU[food]}, total is {total}')\n",
    "        else:\n",
    "            print(f'Sorry, we are fresh out of {food} today.')\n",
    "\n",
    "restaurant()"
   ]
  },
  {
   "attachments": {},
   "cell_type": "markdown",
   "metadata": {},
   "source": [
    "## Exercise 15. 강수량 계산하기"
   ]
  },
  {
   "cell_type": "code",
   "execution_count": 10,
   "metadata": {},
   "outputs": [
    {
     "name": "stdout",
     "output_type": "stream",
     "text": [
      "Boston: 10.0\n",
      "New York: 7.0\n"
     ]
    }
   ],
   "source": [
    "def get_rainfall():\n",
    "    city_rainfall = dict()\n",
    "    \n",
    "    while True:\n",
    "        city = input('city: ')\n",
    "        if not city:\n",
    "            for k, v in city_rainfall.items():\n",
    "                print(f'{k}: {v}')\n",
    "            return\n",
    "        rainfall = float(input('rainfall: '))\n",
    "        \n",
    "        if city in city_rainfall:\n",
    "            city_rainfall[city] += rainfall\n",
    "        else:\n",
    "            city_rainfall[city] = rainfall\n",
    "            \n",
    "get_rainfall()"
   ]
  },
  {
   "cell_type": "code",
   "execution_count": null,
   "metadata": {},
   "outputs": [],
   "source": [
    "# 해설 코드\n",
    "# .get() 과 기본값을 넣어주는 파라미터 이용\n",
    "\n",
    "def get_rainfall():\n",
    "    rainfall = {}\n",
    "    \n",
    "    while True:\n",
    "        city_name = input('Enter city name: ')\n",
    "        if not city_name:\n",
    "            break\n",
    "        \n",
    "        mm_rain = input('Enter mm rain: ')\n",
    "        rainfall[city_name] = rainfall.get(city_name, 0) + int(mm_rain) ##\n",
    "        \n",
    "    for city, rain in rainfall.items():\n",
    "        print(f'{city}: {rain}')\n",
    "        \n",
    "get_rainfall()"
   ]
  },
  {
   "attachments": {},
   "cell_type": "markdown",
   "metadata": {},
   "source": [
    "## Exercise 16. 두 딕셔너리의 차이 찾기"
   ]
  },
  {
   "cell_type": "code",
   "execution_count": 13,
   "metadata": {},
   "outputs": [
    {
     "name": "stdout",
     "output_type": "stream",
     "text": [
      "{}\n",
      "{'c': [3, 4]}\n",
      "{'d': [3, None], 'c': [None, 4]}\n",
      "{'c': [3, None], 'd': [None, 4]}\n"
     ]
    }
   ],
   "source": [
    "def dictdiff(dict1, dict2):\n",
    "    answer_dict = {}\n",
    "    \n",
    "    for k in list(dict1.keys()) + list(dict2.keys()):\n",
    "        if (k in dict1) and (k in dict2):\n",
    "            if dict1[k] != dict2[k]:\n",
    "                answer_dict[k] = [dict1[k], dict2[k]]\n",
    "        elif (k in dict1) and (k not in dict2):\n",
    "            answer_dict[k] = [dict1[k], None]\n",
    "        elif (k not in dict1) and (k in dict2):\n",
    "            answer_dict[k] = [None, dict2[k]]\n",
    "    \n",
    "    return answer_dict\n",
    "\n",
    "d1 = {'a':1, 'b':2, 'c':3}\n",
    "d2 = {'a':1, 'b':2, 'c':4}\n",
    "d3 = {'a':1, 'b':2, 'd':3}\n",
    "d4 = {'a':1, 'b':2, 'c':4}\n",
    "d5 = {'a':1, 'b':2, 'd':4}\n",
    "\n",
    "print(dictdiff(d1, d1))\n",
    "print(dictdiff(d1, d2))\n",
    "print(dictdiff(d3, d4))\n",
    "print(dictdiff(d1, d5))"
   ]
  },
  {
   "cell_type": "code",
   "execution_count": 16,
   "metadata": {},
   "outputs": [
    {
     "name": "stdout",
     "output_type": "stream",
     "text": [
      "{}\n",
      "{'c': [3, 4]}\n",
      "{'c': [None, 4], 'd': [3, None]}\n",
      "{'c': [3, None], 'd': [None, 4]}\n"
     ]
    }
   ],
   "source": [
    "# 해설 코드 참고\n",
    "# dict_keys 객체는 |(합집합) 연산자와 &(교집합) 연산자를 사용 가능 => 겹치는 키 없이 반복 돌릴 수 있음\n",
    "# .get() 이용하면 키가 없을 때 None 리턴하므로 더 간단히 만들 수 있음\n",
    "\n",
    "def dictdiff(dict1, dict2):\n",
    "    answer_dict = {}\n",
    "    \n",
    "    for k in dict1.keys() | dict2.keys():\n",
    "        v1, v2 = dict1.get(k), dict2.get(k)\n",
    "        if v1 != v2:\n",
    "            answer_dict[k] = [v1, v2]\n",
    "    \n",
    "    return answer_dict"
   ]
  },
  {
   "attachments": {},
   "cell_type": "markdown",
   "metadata": {},
   "source": [
    "## Exercise 17. 서로 다른 숫자의 개수 찾기"
   ]
  },
  {
   "cell_type": "code",
   "execution_count": 17,
   "metadata": {},
   "outputs": [
    {
     "name": "stdout",
     "output_type": "stream",
     "text": [
      "4\n"
     ]
    }
   ],
   "source": [
    "def how_many_different_numbers(int_list):\n",
    "    return len(set(int_list)) # .update(int_list), {*int_list} 같은 식으로 만들어도 된다.\n",
    "\n",
    "print(how_many_different_numbers([1,2,3,1,2,3,4,1]))"
   ]
  }
 ],
 "metadata": {
  "kernelspec": {
   "display_name": "base",
   "language": "python",
   "name": "python3"
  },
  "language_info": {
   "codemirror_mode": {
    "name": "ipython",
    "version": 3
   },
   "file_extension": ".py",
   "mimetype": "text/x-python",
   "name": "python",
   "nbconvert_exporter": "python",
   "pygments_lexer": "ipython3",
   "version": "3.10.9"
  },
  "orig_nbformat": 4
 },
 "nbformat": 4,
 "nbformat_minor": 2
}
