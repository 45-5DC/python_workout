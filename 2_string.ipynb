{
 "cells": [
  {
   "attachments": {},
   "cell_type": "markdown",
   "metadata": {},
   "source": [
    "# 2장. 문자열"
   ]
  },
  {
   "attachments": {},
   "cell_type": "markdown",
   "metadata": {},
   "source": [
    "## Exercise 05. 피그 라틴 단어 만들기"
   ]
  },
  {
   "cell_type": "code",
   "execution_count": 4,
   "metadata": {},
   "outputs": [
    {
     "data": {
      "text/plain": [
       "'omputercay'"
      ]
     },
     "execution_count": 4,
     "metadata": {},
     "output_type": "execute_result"
    }
   ],
   "source": [
    "def pig_latin(eng_word):\n",
    "    if eng_word[0] in ['a', 'e', 'i', 'o', 'u']: # 리스트로 안하고 문자열로 'aeiou' 해도 됨\n",
    "        return eng_word + 'way'\n",
    "    else:\n",
    "        return eng_word[1:] + eng_word[0] + 'ay'\n",
    "\n",
    "pig_latin('computer')"
   ]
  },
  {
   "attachments": {},
   "cell_type": "markdown",
   "metadata": {},
   "source": [
    "### 조금 더 나아가기"
   ]
  },
  {
   "cell_type": "code",
   "execution_count": 8,
   "metadata": {},
   "outputs": [
    {
     "data": {
      "text/plain": [
       "'Elbowway'"
      ]
     },
     "execution_count": 8,
     "metadata": {},
     "output_type": "execute_result"
    }
   ],
   "source": [
    "# 대문자가 섞여 있는 단어 처리하기\n",
    "# 첫 글자가 대문자이고 나머지 글자가 소문자인 형태를 피그 라틴 변환 후에도 유지하기\n",
    "\n",
    "def pig_latin(eng_word):\n",
    "    if eng_word[0].islower():\n",
    "        if eng_word[0] in 'aeiou':\n",
    "            return eng_word + 'way'\n",
    "        else:\n",
    "            return eng_word[1:] + eng_word[0] + 'ay'\n",
    "    else:\n",
    "        if eng_word[0] in 'AEIOU':\n",
    "            return eng_word + 'way'\n",
    "        else:\n",
    "            return (eng_word[1:] + eng_word[0] + 'ay').capitalize()\n",
    "\n",
    "pig_latin('Elbow')"
   ]
  },
  {
   "cell_type": "code",
   "execution_count": 11,
   "metadata": {},
   "outputs": [
    {
     "data": {
      "text/plain": [
       "'omputercay.'"
      ]
     },
     "execution_count": 11,
     "metadata": {},
     "output_type": "execute_result"
    }
   ],
   "source": [
    "# 단어가 구두점으로 끝나면 피그 라틴 변환 후에도 구두점이 마지막에 오게 하기\n",
    "\n",
    "def pig_latin(eng_word):\n",
    "    if eng_word.endswith('.'):\n",
    "        if eng_word[0] in 'aeiou':\n",
    "            return eng_word[:-1] + 'way.'\n",
    "        else:\n",
    "            return eng_word[1:-1] + eng_word[0] + 'ay.'        \n",
    "    else:\n",
    "        if eng_word[0] in 'aeiou':\n",
    "            return eng_word + 'way'\n",
    "        else:\n",
    "            return eng_word[1:] + eng_word[0] + 'ay'\n",
    "\n",
    "pig_latin('computer.')"
   ]
  },
  {
   "cell_type": "code",
   "execution_count": 15,
   "metadata": {},
   "outputs": [
    {
     "data": {
      "text/plain": [
       "'indway'"
      ]
     },
     "execution_count": 15,
     "metadata": {},
     "output_type": "execute_result"
    }
   ],
   "source": [
    "# 모음 2개 이상인 경우 끝에 'way' 붙이고, 1개만 있으면 첫 번째 글자를 마지막으로 옮기고 'ay' 붙이는 피그 라틴 만들기\n",
    "## 모음의 종류를 말하는 건지, 단모음/장모음은 구분하는 건지 등 문제가 다소 모호하다.\n",
    "## 그냥 모음 자체의 개수(aeiou의 개수)라고 생각하고 코드를 짰다.\n",
    "\n",
    "def pig_latin(eng_word):\n",
    "    vowels = 0\n",
    "    for i in eng_word:\n",
    "        if i in 'aeiou':\n",
    "            vowels += 1\n",
    "    \n",
    "    if vowels >= 2:\n",
    "        return eng_word + 'way'\n",
    "    elif vowels == 1:\n",
    "        return eng_word[1:] + eng_word[0] + 'ay'\n",
    "    else:\n",
    "        return eng_word\n",
    "\n",
    "pig_latin('wind')"
   ]
  },
  {
   "attachments": {},
   "cell_type": "markdown",
   "metadata": {},
   "source": [
    "## Exercise 06. 피그 라틴 문장 만들기"
   ]
  },
  {
   "cell_type": "code",
   "execution_count": 16,
   "metadata": {},
   "outputs": [
    {
     "data": {
      "text/plain": [
       "'histay isway away esttay ranslationtay'"
      ]
     },
     "execution_count": 16,
     "metadata": {},
     "output_type": "execute_result"
    }
   ],
   "source": [
    "def pig_latin(eng_word):\n",
    "    if eng_word[0] in 'aeiou':\n",
    "        return eng_word + 'way'\n",
    "    else:\n",
    "        return eng_word[1:] + eng_word[0] + 'ay'\n",
    "\n",
    "def pl_sentence(sentence):\n",
    "    answer = ''\n",
    "    for word in sentence.split():\n",
    "        answer += (pig_latin(word) + ' ')\n",
    "    return answer.strip()\n",
    "\n",
    "pl_sentence('this is a test translation')"
   ]
  },
  {
   "cell_type": "code",
   "execution_count": 19,
   "metadata": {},
   "outputs": [
    {
     "name": "stdout",
     "output_type": "stream",
     "text": [
      "histay isway away esttay\n"
     ]
    }
   ],
   "source": [
    "# 해설 코드\n",
    "'''\n",
    "+= 연산자를 사용하여 문자열 연결을 하면, 연결할 때마다 이전보다 큰 새로운 객체가 만들어짐\n",
    "반면 리스트는 mutable하기 때문에 append로 추가하고 join으로 return할 경우 문자열 연결 연산을 쓰는 것에 비해 메모리 비용과 컴퓨팅 연산 비용이 적게 듦\n",
    "'''\n",
    "def pl_sentence(sentence):\n",
    "    output = []\n",
    "    for word in sentence.split():\n",
    "        if word[0] in 'aeiou':\n",
    "            output.append(f'{word}way')\n",
    "        else:\n",
    "            output.append(f'{word[1:]}{word[0]}ay')\n",
    "    return ' '.join(output)\n",
    "\n",
    "print(pl_sentence('this is a test'))"
   ]
  },
  {
   "attachments": {},
   "cell_type": "markdown",
   "metadata": {},
   "source": [
    "### 조금 더 나아가기"
   ]
  },
  {
   "attachments": {},
   "cell_type": "markdown",
   "metadata": {},
   "source": [
    "## Exercise 07. 비밀 언어 우비두비 단어 만들기"
   ]
  },
  {
   "cell_type": "code",
   "execution_count": 20,
   "metadata": {},
   "outputs": [
    {
     "name": "stdout",
     "output_type": "stream",
     "text": [
      "uboctubopubus\n",
      "ubelubephubant\n",
      "suboubap\n"
     ]
    }
   ],
   "source": [
    "def ubbi_dubbi(word):\n",
    "    ud_list = []\n",
    "    for i in word:\n",
    "        if i in 'aeiou':\n",
    "            ud_list.append(f'ub{i}')\n",
    "        else:\n",
    "            ud_list.append(i)\n",
    "    return ''.join(ud_list)\n",
    "\n",
    "print(ubbi_dubbi('octopus'))\n",
    "print(ubbi_dubbi('elephant'))\n",
    "print(ubbi_dubbi('soap'))"
   ]
  },
  {
   "attachments": {},
   "cell_type": "markdown",
   "metadata": {},
   "source": [
    "## Exercise 08. 문자열 정렬하기"
   ]
  },
  {
   "cell_type": "code",
   "execution_count": 21,
   "metadata": {},
   "outputs": [
    {
     "name": "stdout",
     "output_type": "stream",
     "text": [
      "abc\n"
     ]
    }
   ],
   "source": [
    "def strsort(string):\n",
    "    return ''.join(sorted(string))\n",
    "\n",
    "print(strsort('cba'))"
   ]
  },
  {
   "cell_type": "code",
   "execution_count": null,
   "metadata": {},
   "outputs": [],
   "source": []
  }
 ],
 "metadata": {
  "kernelspec": {
   "display_name": "base",
   "language": "python",
   "name": "python3"
  },
  "language_info": {
   "codemirror_mode": {
    "name": "ipython",
    "version": 3
   },
   "file_extension": ".py",
   "mimetype": "text/x-python",
   "name": "python",
   "nbconvert_exporter": "python",
   "pygments_lexer": "ipython3",
   "version": "3.10.9"
  },
  "orig_nbformat": 4
 },
 "nbformat": 4,
 "nbformat_minor": 2
}
